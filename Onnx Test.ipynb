{
 "cells": [
  {
   "cell_type": "code",
   "execution_count": 1,
   "id": "aac27da1",
   "metadata": {},
   "outputs": [],
   "source": [
    "import onnx\n",
    "onnx_model = onnx.load(\"data/tinyyolov2-8/Model/Model.onnx\")\n",
    "onnx.save_model(onnx_model, 'saved_model.onnx', save_as_external_data=True, all_tensors_to_one_file=True, location='data/weights_data', size_threshold=1024, convert_attribute=False)"
   ]
  },
  {
   "cell_type": "code",
   "execution_count": 3,
   "id": "b75aa936",
   "metadata": {},
   "outputs": [
    {
     "name": "stdout",
     "output_type": "stream",
     "text": [
      "Serving 'saved_model.onnx' at http://localhost:8080\n"
     ]
    },
    {
     "data": {
      "text/plain": [
       "('localhost', 8080)"
      ]
     },
     "execution_count": 3,
     "metadata": {},
     "output_type": "execute_result"
    },
    {
     "name": "stderr",
     "output_type": "stream",
     "text": [
      "----------------------------------------\n",
      "Exception occurred during processing of request from ('127.0.0.1', 50760)\n",
      "Traceback (most recent call last):\n",
      "  File \"/home/nilshoffmann/miniconda3/lib/python3.9/socketserver.py\", line 683, in process_request_thread\n",
      "    self.finish_request(request, client_address)\n",
      "  File \"/home/nilshoffmann/miniconda3/lib/python3.9/socketserver.py\", line 360, in finish_request\n",
      "    self.RequestHandlerClass(request, client_address, self)\n",
      "  File \"/home/nilshoffmann/miniconda3/lib/python3.9/socketserver.py\", line 747, in __init__\n",
      "    self.handle()\n",
      "  File \"/home/nilshoffmann/miniconda3/lib/python3.9/http/server.py\", line 425, in handle\n",
      "    self.handle_one_request()\n",
      "  File \"/home/nilshoffmann/miniconda3/lib/python3.9/http/server.py\", line 413, in handle_one_request\n",
      "    method()\n",
      "  File \"/home/nilshoffmann/Projects/github.com/biohackathon-2022-fair-ml/onnxtest/onnx-venv/lib/python3.9/site-packages/netron/server.py\", line 104, in do_GET\n",
      "    self._write(status_code, content_type, content)\n",
      "  File \"/home/nilshoffmann/Projects/github.com/biohackathon-2022-fair-ml/onnxtest/onnx-venv/lib/python3.9/site-packages/netron/server.py\", line 117, in _write\n",
      "    self.wfile.write(content)\n",
      "  File \"/home/nilshoffmann/miniconda3/lib/python3.9/socketserver.py\", line 826, in write\n",
      "    self._sock.sendall(b)\n",
      "BrokenPipeError: [Errno 32] Broken pipe\n",
      "----------------------------------------\n"
     ]
    }
   ],
   "source": [
    "import netron\n",
    "netron.start(\"saved_model.onnx\")"
   ]
  },
  {
   "cell_type": "code",
   "execution_count": 5,
   "id": "b3d5efaf",
   "metadata": {},
   "outputs": [],
   "source": [
    "!python onnx-venv/lib/python3.9/site-packages/onnx/tools/net_drawer.py --input saved_model.onnx --output model.dot --embed_docstring"
   ]
  },
  {
   "cell_type": "code",
   "execution_count": 6,
   "id": "a7a40a6f",
   "metadata": {},
   "outputs": [],
   "source": [
    "!dot -Tsvg model.dot -o model.svg"
   ]
  },
  {
   "cell_type": "code",
   "execution_count": null,
   "id": "77d74883",
   "metadata": {},
   "outputs": [],
   "source": []
  }
 ],
 "metadata": {
  "kernelspec": {
   "display_name": "Python 3 (ipykernel)",
   "language": "python",
   "name": "python3"
  },
  "language_info": {
   "codemirror_mode": {
    "name": "ipython",
    "version": 3
   },
   "file_extension": ".py",
   "mimetype": "text/x-python",
   "name": "python",
   "nbconvert_exporter": "python",
   "pygments_lexer": "ipython3",
   "version": "3.9.12"
  }
 },
 "nbformat": 4,
 "nbformat_minor": 5
}
